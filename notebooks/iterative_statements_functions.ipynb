{
  "nbformat": 4,
  "nbformat_minor": 0,
  "metadata": {
    "colab": {
      "provenance": []
    },
    "kernelspec": {
      "name": "python3",
      "display_name": "Python 3"
    },
    "language_info": {
      "name": "python"
    }
  },
  "cells": [
    {
      "cell_type": "code",
      "source": [
        "import numpy as np"
      ],
      "metadata": {
        "id": "HOsvHwCCqmF5"
      },
      "execution_count": null,
      "outputs": []
    },
    {
      "cell_type": "code",
      "source": [
        "x = np.array([1, 2, 3])"
      ],
      "metadata": {
        "id": "KWmkK2k75FVV"
      },
      "execution_count": null,
      "outputs": []
    },
    {
      "cell_type": "code",
      "source": [],
      "metadata": {
        "colab": {
          "base_uri": "https://localhost:8080/"
        },
        "id": "zF4ATo5B5pV-",
        "outputId": "bf640057-9e3a-48c0-df0a-25fa37095f9a"
      },
      "execution_count": null,
      "outputs": [
        {
          "output_type": "stream",
          "name": "stdout",
          "text": [
            "3\n"
          ]
        }
      ]
    },
    {
      "cell_type": "markdown",
      "source": [
        "# Control Flow"
      ],
      "metadata": {
        "id": "MkgxolvHP7L9"
      }
    },
    {
      "cell_type": "markdown",
      "source": [],
      "metadata": {
        "id": "2axhxzFk_noM"
      }
    },
    {
      "cell_type": "markdown",
      "source": [
        "## If Else"
      ],
      "metadata": {
        "id": "tGDxYg7AP9QM"
      }
    },
    {
      "cell_type": "code",
      "source": [
        "if condition:\n",
        "    pass\n",
        "elif condition:\n",
        "    pass\n",
        "else:\n",
        "    pass"
      ],
      "metadata": {
        "id": "ONem9UyIP_nL"
      },
      "execution_count": null,
      "outputs": []
    },
    {
      "cell_type": "markdown",
      "source": [
        "0, None, False : All of these are considered False"
      ],
      "metadata": {
        "id": "gWYyOjBjQ9ak"
      }
    },
    {
      "cell_type": "markdown",
      "source": [
        "## While Loop"
      ],
      "metadata": {
        "id": "-UnvXrXOQGyQ"
      }
    },
    {
      "cell_type": "code",
      "source": [
        "while condition:\n",
        "    pass\n",
        "# Remaining code"
      ],
      "metadata": {
        "id": "PJe8G_2oQOl3",
        "outputId": "8586e285-30d6-4fe1-bd20-21d04e283f48",
        "colab": {
          "base_uri": "https://localhost:8080/",
          "height": 176
        }
      },
      "execution_count": null,
      "outputs": [
        {
          "output_type": "error",
          "ename": "NameError",
          "evalue": "name 'condition' is not defined",
          "traceback": [
            "\u001b[0;31m---------------------------------------------------------------------------\u001b[0m",
            "\u001b[0;31mNameError\u001b[0m                                 Traceback (most recent call last)",
            "\u001b[0;32m<ipython-input-1-24b01e2a4256>\u001b[0m in \u001b[0;36m<cell line: 1>\u001b[0;34m()\u001b[0m\n\u001b[0;32m----> 1\u001b[0;31m \u001b[0;32mwhile\u001b[0m \u001b[0mcondition\u001b[0m\u001b[0;34m:\u001b[0m\u001b[0;34m\u001b[0m\u001b[0;34m\u001b[0m\u001b[0m\n\u001b[0m\u001b[1;32m      2\u001b[0m     \u001b[0;32mpass\u001b[0m\u001b[0;34m\u001b[0m\u001b[0;34m\u001b[0m\u001b[0m\n\u001b[1;32m      3\u001b[0m \u001b[0;31m# Remaining code\u001b[0m\u001b[0;34m\u001b[0m\u001b[0;34m\u001b[0m\u001b[0m\n",
            "\u001b[0;31mNameError\u001b[0m: name 'condition' is not defined"
          ]
        }
      ]
    },
    {
      "cell_type": "code",
      "source": [
        "while condition:\n",
        "    pass\n",
        "else:\n",
        "    pass"
      ],
      "metadata": {
        "id": "i82GfUM4QIzL"
      },
      "execution_count": null,
      "outputs": []
    },
    {
      "cell_type": "markdown",
      "source": [
        "## For Loop"
      ],
      "metadata": {
        "id": "Sy6K5MaLQlEL"
      }
    },
    {
      "cell_type": "markdown",
      "source": [
        "The for loop in Python is used to iterate over a sequence (list, tuple, string) or other iterable objects"
      ],
      "metadata": {
        "id": "laAfnxqXRIl7"
      }
    },
    {
      "cell_type": "code",
      "source": [
        "# 1*7 = 7\n",
        "# 2*7 = 14\n",
        "# 3*7 = 21\n",
        "# .\n",
        "# .\n",
        "# 10*7 = 70"
      ],
      "metadata": {
        "id": "QsjW5eJDSUlU"
      },
      "execution_count": null,
      "outputs": []
    },
    {
      "cell_type": "code",
      "source": [
        "for x in range(1, 11):\n",
        "  print(x, \"*\", 7,\"=\",x*7)"
      ],
      "metadata": {
        "colab": {
          "base_uri": "https://localhost:8080/"
        },
        "id": "ePzV9q0NSkP_",
        "outputId": "5e41a59f-2ef3-4371-d2cb-3c2c462859f5"
      },
      "execution_count": null,
      "outputs": [
        {
          "output_type": "stream",
          "name": "stdout",
          "text": [
            "1 * 7 = 7\n",
            "2 * 7 = 14\n",
            "3 * 7 = 21\n",
            "4 * 7 = 28\n",
            "5 * 7 = 35\n",
            "6 * 7 = 42\n",
            "7 * 7 = 49\n",
            "8 * 7 = 56\n",
            "9 * 7 = 63\n",
            "10 * 7 = 70\n"
          ]
        }
      ]
    },
    {
      "cell_type": "code",
      "source": [
        "for x in range(1, 6):\n",
        "  print(\"Good Evening\")"
      ],
      "metadata": {
        "colab": {
          "base_uri": "https://localhost:8080/"
        },
        "id": "6-nenZNgRZ14",
        "outputId": "2236cd05-e888-4cd3-d52f-922141c88ca3"
      },
      "execution_count": null,
      "outputs": [
        {
          "output_type": "stream",
          "name": "stdout",
          "text": [
            "Good Evening\n",
            "Good Evening\n",
            "Good Evening\n",
            "Good Evening\n",
            "Good Evening\n"
          ]
        }
      ]
    },
    {
      "cell_type": "code",
      "source": [
        "grocery = [\"Apple\", \"Orange\", \"Banana\"]\n",
        "for x in grocery:\n",
        "    print(x)"
      ],
      "metadata": {
        "colab": {
          "base_uri": "https://localhost:8080/"
        },
        "id": "Qo1CF_JGRFxC",
        "outputId": "6ba535d2-24b6-4a50-f835-fd4b9396f3ee"
      },
      "execution_count": null,
      "outputs": [
        {
          "output_type": "stream",
          "name": "stdout",
          "text": [
            "Apple\n",
            "Orange\n",
            "Banana\n"
          ]
        }
      ]
    },
    {
      "cell_type": "code",
      "source": [
        "numbers = \"data science\"\n",
        "for num in numbers:\n",
        "    print(num)"
      ],
      "metadata": {
        "colab": {
          "base_uri": "https://localhost:8080/"
        },
        "id": "1dyhXwmKQnAS",
        "outputId": "e9d6122c-e103-47ea-d1d2-50a5cafd30ed"
      },
      "execution_count": null,
      "outputs": [
        {
          "output_type": "stream",
          "name": "stdout",
          "text": [
            "d\n",
            "a\n",
            "t\n",
            "a\n",
            " \n",
            "s\n",
            "c\n",
            "i\n",
            "e\n",
            "n\n",
            "c\n",
            "e\n"
          ]
        }
      ]
    },
    {
      "cell_type": "code",
      "source": [
        "for x in range(1, 11):\n",
        "  if x %2== 0:\n",
        "    continue\n",
        "  print(x)"
      ],
      "metadata": {
        "colab": {
          "base_uri": "https://localhost:8080/"
        },
        "id": "1y2KyvRKTKgM",
        "outputId": "7d8b9973-ef77-4a51-fa33-cd043ec2a3cf"
      },
      "execution_count": null,
      "outputs": [
        {
          "output_type": "stream",
          "name": "stdout",
          "text": [
            "1\n",
            "3\n",
            "5\n",
            "7\n",
            "9\n"
          ]
        }
      ]
    },
    {
      "cell_type": "code",
      "source": [
        "for num in numbers:\n",
        "    print(num)\n",
        "else:\n",
        "  print(\"No more items left!\")"
      ],
      "metadata": {
        "colab": {
          "base_uri": "https://localhost:8080/"
        },
        "id": "DXkydXeOQvj9",
        "outputId": "c69a1105-f8d9-4f69-8fcb-3ab0d407d9a8"
      },
      "execution_count": null,
      "outputs": [
        {
          "output_type": "stream",
          "name": "stdout",
          "text": [
            "1\n",
            "2\n",
            "3\n",
            "4\n",
            "5\n",
            "No more items left!\n"
          ]
        }
      ]
    },
    {
      "cell_type": "markdown",
      "source": [
        "## BREAK and CONTINUE"
      ],
      "metadata": {
        "id": "zLK6kVTkRhc_"
      }
    },
    {
      "cell_type": "markdown",
      "source": [
        "### Break"
      ],
      "metadata": {
        "id": "lR7hmQxeRn7g"
      }
    },
    {
      "cell_type": "code",
      "source": [
        "for num in numbers:\n",
        "    if num == 3:\n",
        "        break\n",
        "    print(num)\n",
        "print(\"outside of for loop \")"
      ],
      "metadata": {
        "colab": {
          "base_uri": "https://localhost:8080/"
        },
        "id": "pHEpz7PYQ0VV",
        "outputId": "39f4ee6f-44fc-4b18-f0e2-0dc23024fbc1"
      },
      "execution_count": null,
      "outputs": [
        {
          "output_type": "stream",
          "name": "stdout",
          "text": [
            "1\n",
            "2\n",
            "outside of for loop \n"
          ]
        }
      ]
    },
    {
      "cell_type": "code",
      "source": [
        "for num in numbers:\n",
        "    if num == 3:\n",
        "        continue\n",
        "    print(num)\n",
        "print(\"outside of for loop \")"
      ],
      "metadata": {
        "colab": {
          "base_uri": "https://localhost:8080/"
        },
        "id": "N0r8Obv7RtSB",
        "outputId": "ef69b606-b508-439f-9d84-f4edab912317"
      },
      "execution_count": null,
      "outputs": [
        {
          "output_type": "stream",
          "name": "stdout",
          "text": [
            "1\n",
            "2\n",
            "4\n",
            "5\n",
            "outside of for loop \n"
          ]
        }
      ]
    },
    {
      "cell_type": "code",
      "source": [
        "i = 1\n",
        "while i<=10:\n",
        "  print(i)\n",
        "  i = i+1"
      ],
      "metadata": {
        "colab": {
          "base_uri": "https://localhost:8080/"
        },
        "id": "yEIi1D7kVF0B",
        "outputId": "f34bb277-16b6-4bae-8b8f-9004bda7655b"
      },
      "execution_count": null,
      "outputs": [
        {
          "output_type": "stream",
          "name": "stdout",
          "text": [
            "1\n",
            "2\n",
            "3\n",
            "4\n",
            "5\n",
            "6\n",
            "7\n",
            "8\n",
            "9\n",
            "10\n"
          ]
        }
      ]
    },
    {
      "cell_type": "code",
      "source": [
        "x = input(\"Enter a number: \")\n",
        "i = 1\n",
        "while i<11:\n",
        "  print(i, \"*\", x ,\"=\", i*int(x))\n",
        "  i = i+1"
      ],
      "metadata": {
        "colab": {
          "base_uri": "https://localhost:8080/"
        },
        "id": "d69Z-hg5VFjH",
        "outputId": "471dbd2b-7d67-4bb7-b437-76defe087325"
      },
      "execution_count": null,
      "outputs": [
        {
          "output_type": "stream",
          "name": "stdout",
          "text": [
            "Enter a number: 6\n",
            "1 * 6 = 6\n",
            "2 * 6 = 12\n",
            "3 * 6 = 18\n",
            "4 * 6 = 24\n",
            "5 * 6 = 30\n",
            "6 * 6 = 36\n",
            "7 * 6 = 42\n",
            "8 * 6 = 48\n",
            "9 * 6 = 54\n",
            "10 * 6 = 60\n"
          ]
        }
      ]
    },
    {
      "cell_type": "code",
      "source": [
        "x = input(\"Enter a number: \")\n",
        "print(\"The number you entered is: \", x)\n",
        "y = int(x)\n",
        "print(type(x))\n",
        "print(type(y))"
      ],
      "metadata": {
        "colab": {
          "base_uri": "https://localhost:8080/"
        },
        "id": "m234avLLZYjb",
        "outputId": "6ad84e73-9c7d-4016-8782-a8e4b9451986"
      },
      "execution_count": null,
      "outputs": [
        {
          "output_type": "stream",
          "name": "stdout",
          "text": [
            "Enter a number: 100\n",
            "The number you entered is:  100\n",
            "<class 'str'>\n",
            "<class 'int'>\n"
          ]
        }
      ]
    },
    {
      "cell_type": "code",
      "source": [
        "with open(\"sample.txt\", \"w\") as f:\n",
        "    f.write(\"Good evening\")"
      ],
      "metadata": {
        "id": "2kW9IoqedBd0"
      },
      "execution_count": null,
      "outputs": []
    },
    {
      "cell_type": "code",
      "source": [
        "with open(\"sample.txt\", \"r\") as f:\n",
        "    data = f.readlines()\n",
        "print(data)"
      ],
      "metadata": {
        "colab": {
          "base_uri": "https://localhost:8080/"
        },
        "id": "s3dTvZoOgO2e",
        "outputId": "2d9c2d29-5a4f-4031-ee17-60127333f4ae"
      },
      "execution_count": null,
      "outputs": [
        {
          "output_type": "stream",
          "name": "stdout",
          "text": [
            "['Hello, World!']\n"
          ]
        }
      ]
    },
    {
      "cell_type": "code",
      "source": [
        "def greet():\n",
        "  print(\"Good evening\")\n",
        "  print(\"Hello DSA Students\")"
      ],
      "metadata": {
        "id": "o0S3r0gWkO95"
      },
      "execution_count": null,
      "outputs": []
    },
    {
      "cell_type": "code",
      "source": [
        "def greet(name=\"Guest\"):\n",
        "  print(\"Hello\", name)"
      ],
      "metadata": {
        "id": "aS2IBePrk_it"
      },
      "execution_count": null,
      "outputs": []
    },
    {
      "cell_type": "code",
      "source": [
        "greet(\"Bob\")"
      ],
      "metadata": {
        "colab": {
          "base_uri": "https://localhost:8080/"
        },
        "id": "JjraD7BTog7H",
        "outputId": "f2b8544d-47b1-47d4-9190-f1171b6dfd06"
      },
      "execution_count": null,
      "outputs": [
        {
          "output_type": "stream",
          "name": "stdout",
          "text": [
            "Hello Bob\n"
          ]
        }
      ]
    },
    {
      "cell_type": "markdown",
      "source": [
        "## Keywords\n",
        "\n",
        "\n",
        "*   Keywords are reserved words in Python\n",
        "*   Keywords cannot be used as variable name, function name or any other identifier\n",
        "*   Keywords are case sensitive\n",
        "\n"
      ],
      "metadata": {
        "id": "ZVzEHbJeSKG9"
      }
    },
    {
      "cell_type": "code",
      "source": [
        "import keyword\n",
        "print(keyword.kwlist)\n",
        "print(len(keyword.kwlist))"
      ],
      "metadata": {
        "colab": {
          "base_uri": "https://localhost:8080/"
        },
        "id": "tzNL8HrIR9gU",
        "outputId": "4ab8b75d-f9ae-40eb-de93-c843fb29472e"
      },
      "execution_count": null,
      "outputs": [
        {
          "output_type": "stream",
          "name": "stdout",
          "text": [
            "['False', 'None', 'True', 'and', 'as', 'assert', 'async', 'await', 'break', 'class', 'continue', 'def', 'del', 'elif', 'else', 'except', 'finally', 'for', 'from', 'global', 'if', 'import', 'in', 'is', 'lambda', 'nonlocal', 'not', 'or', 'pass', 'raise', 'return', 'try', 'while', 'with', 'yield']\n",
            "35\n"
          ]
        }
      ]
    },
    {
      "cell_type": "markdown",
      "source": [
        "## Multiline statements using continuation ('\\\\') character"
      ],
      "metadata": {
        "id": "t8UvsSENTTm3"
      }
    },
    {
      "cell_type": "code",
      "source": [
        "a = 1+2+3+4+5+6+7\n",
        "print(a)\n",
        "\n",
        "b = 1+2+3+4+\\\n",
        "5+6+\\\n",
        "7\n",
        "print(b)"
      ],
      "metadata": {
        "colab": {
          "base_uri": "https://localhost:8080/"
        },
        "id": "cDs6CiVZSf6f",
        "outputId": "1072a4ce-45c0-40c8-b524-53f0e19131cc"
      },
      "execution_count": null,
      "outputs": [
        {
          "output_type": "stream",
          "name": "stdout",
          "text": [
            "28\n",
            "28\n"
          ]
        }
      ]
    },
    {
      "cell_type": "markdown",
      "source": [
        "## Multiline Assignments"
      ],
      "metadata": {
        "id": "fsoJcbRpUpr8"
      }
    },
    {
      "cell_type": "code",
      "source": [
        "x, y, z = \"ICT\", 2024, \"DSA Batch 4\"\n",
        "print(x)\n",
        "print(y)\n",
        "print(z)"
      ],
      "metadata": {
        "colab": {
          "base_uri": "https://localhost:8080/"
        },
        "id": "Avj_7VwmTa3B",
        "outputId": "c709afaf-5aeb-4863-f208-3006ce122b79"
      },
      "execution_count": null,
      "outputs": [
        {
          "output_type": "stream",
          "name": "stdout",
          "text": [
            "ICT\n",
            "2024\n",
            "DSA Batch 4\n"
          ]
        }
      ]
    },
    {
      "cell_type": "markdown",
      "source": [
        "## Standard Input and Output"
      ],
      "metadata": {
        "id": "mWBH3RLnVMvu"
      }
    },
    {
      "cell_type": "markdown",
      "source": [
        "### Standard Input"
      ],
      "metadata": {
        "id": "eKpMqjgWVp1V"
      }
    },
    {
      "cell_type": "code",
      "source": [
        "name = input(\"Enter your name: \")\n",
        "print(\"The name you entered is: \", name)"
      ],
      "metadata": {
        "colab": {
          "base_uri": "https://localhost:8080/"
        },
        "id": "YyaiWZIeU4EC",
        "outputId": "95d21462-f386-4010-b9e6-763b24d17e1c"
      },
      "execution_count": null,
      "outputs": [
        {
          "output_type": "stream",
          "name": "stdout",
          "text": [
            "Enter your name: Sajil\n",
            "The name you entered is:  Sajil\n"
          ]
        }
      ]
    },
    {
      "cell_type": "markdown",
      "source": [
        "### Standard output"
      ],
      "metadata": {
        "id": "muhK-WyLVtCQ"
      }
    },
    {
      "cell_type": "code",
      "source": [
        "a = 10\n",
        "b = 20\n",
        "print(a, b)\n",
        "print(\"a = \", a)\n",
        "print(\"b = \", b)\n",
        "print(\"a = {} and b = {}\".format(a, b))\n",
        "print(\"a = {0} and b = {1}\".format(a, b))\n",
        "print(\"a = {1} and b = {0}\".format(a, b))\n",
        "print(\"Hello {}, welcome to DSA class \".format(name))"
      ],
      "metadata": {
        "colab": {
          "base_uri": "https://localhost:8080/"
        },
        "id": "MzfdygcDVbNv",
        "outputId": "89d8648c-9c54-4c0c-e878-93577557061f"
      },
      "execution_count": null,
      "outputs": [
        {
          "output_type": "stream",
          "name": "stdout",
          "text": [
            "10 20\n",
            "a =  10\n",
            "b =  20\n",
            "a = 10 and b = 20\n",
            "a = 10 and b = 20\n",
            "a = 20 and b = 10\n",
            "Hello Sajil, welcome to DSA class \n"
          ]
        }
      ]
    },
    {
      "cell_type": "markdown",
      "source": [
        "## Functions\n",
        "\n",
        "\n",
        "*   Function is a group of related statements that perform a specific task\n",
        "*   There are bulit-in functions and user defined functions\n",
        "*   Functions break the program into smaller and modular chunks\n",
        "*   As program grows, function make it more organised and managable\n",
        "*   It avoids repetition and make code reusable\n",
        "\n"
      ],
      "metadata": {
        "id": "JyYAWZnzXbKk"
      }
    },
    {
      "cell_type": "code",
      "source": [
        "def function_name(parameters):\n",
        "  \"\"\" doc string\"\"\"\n",
        "  # Statements\n",
        "  return value"
      ],
      "metadata": {
        "id": "ob5oNJkSWKGL"
      },
      "execution_count": null,
      "outputs": []
    },
    {
      "cell_type": "code",
      "source": [
        "print(function_name.__doc__) # prints the docstring of the function"
      ],
      "metadata": {
        "colab": {
          "base_uri": "https://localhost:8080/"
        },
        "id": "CYohaKOuYDvS",
        "outputId": "9b95b5df-b44e-4c9c-ed39-faff080ecad2"
      },
      "execution_count": null,
      "outputs": [
        {
          "output_type": "stream",
          "name": "stdout",
          "text": [
            " doc string\n"
          ]
        }
      ]
    },
    {
      "cell_type": "code",
      "source": [
        "def add_numbers(a, b):\n",
        "  \"\"\" This function adds two numbers \"\"\"\n",
        "  sum = a + b\n",
        "  return sum"
      ],
      "metadata": {
        "id": "x4alenHVYXfL"
      },
      "execution_count": null,
      "outputs": []
    },
    {
      "cell_type": "code",
      "source": [
        "add_numbers(4, 6)"
      ],
      "metadata": {
        "colab": {
          "base_uri": "https://localhost:8080/"
        },
        "id": "QxeeEbKKYrhV",
        "outputId": "226ba407-c0f4-4f8a-fdf6-9ed4841e95fa"
      },
      "execution_count": null,
      "outputs": [
        {
          "output_type": "execute_result",
          "data": {
            "text/plain": [
              "10"
            ]
          },
          "metadata": {},
          "execution_count": 2
        }
      ]
    },
    {
      "cell_type": "code",
      "source": [
        "print(add_numbers.__doc__)"
      ],
      "metadata": {
        "colab": {
          "base_uri": "https://localhost:8080/"
        },
        "id": "9QgyZV-uUy3z",
        "outputId": "1eaadf5a-9307-4262-f284-26f3993ec6db"
      },
      "execution_count": null,
      "outputs": [
        {
          "output_type": "stream",
          "name": "stdout",
          "text": [
            " This function adds two numbers \n"
          ]
        }
      ]
    },
    {
      "cell_type": "markdown",
      "source": [
        "#### Keyword arguements"
      ],
      "metadata": {
        "id": "tB3k3gU1ZzqK"
      }
    },
    {
      "cell_type": "code",
      "source": [
        "def print_info(*kwargs):\n",
        "  for item in kwargs:\n",
        "    print(item)"
      ],
      "metadata": {
        "id": "aR59JmjRYs5C"
      },
      "execution_count": null,
      "outputs": []
    },
    {
      "cell_type": "code",
      "source": [
        "print_info(\"hi\", \"hello\", \"how r u\" ,\"bye\")"
      ],
      "metadata": {
        "colab": {
          "base_uri": "https://localhost:8080/"
        },
        "id": "Mshb2T6pZ9jb",
        "outputId": "0eb0d1eb-91c6-4741-a2a9-fb5acdc2e818"
      },
      "execution_count": null,
      "outputs": [
        {
          "output_type": "stream",
          "name": "stdout",
          "text": [
            "hi\n",
            "hello\n",
            "how r u\n",
            "bye\n"
          ]
        }
      ]
    },
    {
      "cell_type": "code",
      "source": [
        "print_info(\"hi\", \"bye\")"
      ],
      "metadata": {
        "id": "cAmF3IohaClV",
        "colab": {
          "base_uri": "https://localhost:8080/"
        },
        "outputId": "da528c8c-d622-43f6-f711-cf05d9afe8ed"
      },
      "execution_count": null,
      "outputs": [
        {
          "output_type": "stream",
          "name": "stdout",
          "text": [
            "hi\n",
            "bye\n"
          ]
        }
      ]
    },
    {
      "cell_type": "code",
      "source": [],
      "metadata": {
        "id": "H6xV9hbBVwIO"
      },
      "execution_count": null,
      "outputs": []
    }
  ]
}